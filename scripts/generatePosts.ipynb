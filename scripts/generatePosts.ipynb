{
 "cells": [
  {
   "cell_type": "code",
   "execution_count": null,
   "metadata": {},
   "outputs": [],
   "source": [
    "from dataGenerator import Post\n",
    "import numpy as np\n",
    "import pandas as pd\n",
    "import sys, os\n",
    "import datetime\n",
    "import random"
   ]
  },
  {
   "cell_type": "code",
   "execution_count": null,
   "metadata": {},
   "outputs": [],
   "source": [
    "# import canada streets database\n",
    "\n",
    "assets = os.getcwd() + r\"\\\\assets\\\\\"\n",
    "streets = pd.read_csv(assets + \"canada_streets.csv\")\n",
    "\n",
    "# weed out any NUMBER, STREET, CITY, PROVINCE, POSTCODE with NaN\n",
    "streets = streets.dropna(subset=['NUMBER', 'STREET', 'CITY', 'POSTCODE'])\n",
    "\n"
   ]
  },
  {
   "cell_type": "code",
   "execution_count": null,
   "metadata": {},
   "outputs": [],
   "source": [
    "# get rid of the city \"SSM\"\n",
    "streets = streets[streets.CITY != \"SSM\"]\n",
    "streets"
   ]
  },
  {
   "cell_type": "code",
   "execution_count": null,
   "metadata": {},
   "outputs": [],
   "source": [
    "houses_urls = []\n",
    "\n",
    "with open(assets + \"houses.txt\", \"r\") as f:\n",
    "    for line in f:\n",
    "        houses_urls.append(line.strip())"
   ]
  },
  {
   "cell_type": "code",
   "execution_count": 21,
   "metadata": {},
   "outputs": [],
   "source": [
    "numPosts = 500\n",
    "\n",
    "# generate random posts\n",
    "posts = []\n",
    "\n",
    "totalStreets = len(streets)\n",
    "\n",
    "for i in range(numPosts):\n",
    "    street = streets.iloc[np.random.randint(0, totalStreets)]\n",
    "    location = f\"{street['NUMBER']} {street['STREET']}, {street['CITY']}, {street['POSTCODE']}\"\n",
    "    \n",
    "    price = np.random.randint(600, 4000)\n",
    "    year, month, day = random.randint(2024, 2026), random.randint(1, 12), random.randint(1, 28)\n",
    "\n",
    "    start_date = datetime.datetime(year, month, day, 12, 0, 0).strftime(\"%Y-%m-%d %H:%M:%S+00\")\n",
    "    lease_len = random.randint(1, 24)\n",
    "    add_months = datetime.timedelta(days=30*lease_len)\n",
    "    \n",
    "    end_date = (datetime.datetime(year, month, day, 12, 0, 0) + add_months).strftime(\"%Y-%m-%d %H:%M:%S+00\")\n",
    "    \n",
    "    random_house_image = random.choice(houses_urls)\n",
    "    num_bedrooms = random.randint(1, 5)\n",
    "    is_furnished = random.choice([True, False])\n",
    "    amenities = random.randint(0, 15)\n",
    "    description = \" \".join([f\"Lorem ipsum dolor sit amet, consectetur adipiscing elit. {i}\" for i in range(3)])\n",
    "    property_type = random.randint(1, 4)\n",
    "    \n",
    "    post = Post(id=i, price=price, location=location, rent_start=start_date, rent_end=end_date, image=random_house_image, num_bedrooms=num_bedrooms, is_furnished=is_furnished, amenities=amenities, description=description, property_type=property_type)\n",
    "    \n",
    "    posts.append(post)"
   ]
  },
  {
   "cell_type": "code",
   "execution_count": 22,
   "metadata": {},
   "outputs": [],
   "source": [
    "# convert these posts into csv\n",
    "df = pd.DataFrame([post.to_dict() for post in posts])\n",
    "df.to_csv(assets + \"posts.csv\", index=False)"
   ]
  }
 ],
 "metadata": {
  "kernelspec": {
   "display_name": "Python 3",
   "language": "python",
   "name": "python3"
  },
  "language_info": {
   "codemirror_mode": {
    "name": "ipython",
    "version": 3
   },
   "file_extension": ".py",
   "mimetype": "text/x-python",
   "name": "python",
   "nbconvert_exporter": "python",
   "pygments_lexer": "ipython3",
   "version": "3.11.1"
  }
 },
 "nbformat": 4,
 "nbformat_minor": 2
}
